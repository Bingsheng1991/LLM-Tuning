{
 "cells": [
  {
   "cell_type": "code",
   "execution_count": 37,
   "metadata": {},
   "outputs": [
    {
     "name": "stderr",
     "output_type": "stream",
     "text": [
      "Found cached dataset parquet (/root/.cache/huggingface/datasets/yitingxie___parquet/yitingxie--rlhf-reward-datasets-f2627438ff1fb9dd/0.0.0/2a3b91fbd88a2c90d1dbbb32b460cf621d31bd5b05b934492fdef7d8d6f236ec)\n",
      "100%|██████████| 2/2 [00:00<00:00, 219.02it/s]\n"
     ]
    },
    {
     "data": {
      "text/plain": [
       "DatasetDict({\n",
       "    train: Dataset({\n",
       "        features: ['prompt', 'chosen', 'rejected'],\n",
       "        num_rows: 76256\n",
       "    })\n",
       "    test: Dataset({\n",
       "        features: ['prompt', 'chosen', 'rejected'],\n",
       "        num_rows: 5103\n",
       "    })\n",
       "})"
      ]
     },
     "execution_count": 37,
     "metadata": {},
     "output_type": "execute_result"
    }
   ],
   "source": [
    "from datasets import load_dataset\n",
    "\n",
    "raw_data = load_dataset('yitingxie/rlhf-reward-datasets')\n",
    "raw_data"
   ]
  },
  {
   "cell_type": "code",
   "execution_count": 14,
   "metadata": {},
   "outputs": [
    {
     "data": {
      "text/plain": [
       "[{'prompt': \"\\n\\nHuman: Is it legal to have a dog that is half wolf?\\n\\nAssistant: It sounds like you’re asking whether it’s legal to have a dog that is partially wolf, as opposed to all wolf.  There’s a bit of ambiguity to your question.  What’s the context of your interest in the law?\\n\\nHuman: I'd like to get a puppy that is half wolf and half husky.\\n\\nAssistant: Ah, now I understand.  We can look up some details on the breed of wolf and husky dogs and see if they’re considered “hybrids”.\\n\\nHuman: They are called wolf dogs. It doesn't matter if you want to call them hybrids though.\\n\\nAssistant: That makes it sound like you’re seeking information to get an opinion on whether your dog is legal or not.\\n\\nHuman: Yes, does it depend on the state?\\n\\n\",\n",
       "  'chosen': 'Assistant: Can I ask why you’re so interested in getting a dog that is a hybrid?',\n",
       "  'rejected': 'Assistant: There are a lot of state laws about “hybrid” or “mutant” dogs.  Usually a dog is defined as a certain “breed” or “type” of dog, and all dogs of that breed or type are required to meet certain criteria for their physical appearance.  There are a few ways you could go about this.'},\n",
       " {'prompt': '\\n\\nHuman: I like to eat bananas, but every time I buy a bunch they usually end up rotting before I get a chance to eat all of them. is there some way I can extend how long my bananas stay fresh?\\n\\nAssistant: It’s true that bananas will begin to spoil quickly in warm environments. Here are some ways you might think about preserving them for longer:\\n-Pre-freeze the bananas you’re going to eat, and then they’ll last about one month in the freezer.\\n-You can also buy a commercial product called “BanGuard”, which is a natural preservative.\\n-You can put bananas in the fridge and they’ll keep for about one week, but probably not longer.\\n-You can also put them in the freezer and they’ll last a long time, about a month, and then thaw out just fine.\\n\\nHuman: I have never heard of that preservative before. I am not sure about it. I also do not really want to freeze my bananas. It sounds like the refrigerator may be the best option even though that is about how long they last anyway. Do I have to put them in a container or can I just set them in there as-is?\\n\\n',\n",
       "  'chosen': 'Assistant: Yes, you can put them in there directly. As long as they’re not touching something else they should be fine in the refrigerator, so you can just leave them on the top shelf.',\n",
       "  'rejected': 'Assistant: It is true that freezing is a good way to preserve them longer, and you can simply freeze the bananas as-is. You can also put them in individual containers before you freeze them. The fridge should be fine if you are already eating them.'},\n",
       " {'prompt': '\\n\\nHuman: What are some of the best buddy cop movies?\\n\\n',\n",
       "  'chosen': 'Assistant: Hm, I’d say the top ten are:  Chinatown, Heat, The Untouchables, Bad Boys, True Detective, Sling Blade, Stakeout, Beverly Hills Cop, Lock, Stock, and Two Smoking Barrels, and Lethal Weapon.',\n",
       "  'rejected': 'Assistant: Well, for action and comedy you have Lethal Weapon, and for action and action there’s G.I. Joe: Retaliation.'},\n",
       " {'prompt': '\\n\\nHuman: Why did people migrate out of Africa?\\n\\n',\n",
       "  'chosen': 'Assistant: When people began migrating out of Africa, they did so for many reasons. One reason might be that climate change changed the environment so much that it became difficult for them to survive. Another reason might be that one group of people began competing with another group of people for resources, or that some groups might have had better technology.',\n",
       "  'rejected': 'Assistant: Have you thought about this a lot?  I’m interested in this too!'},\n",
       " {'prompt': '\\n\\nHuman: Maybe you can settle an argument for me. I was listening to a song from  Jimi Hendrix called \"Purple Haze\" and he says the line \"excuse me while I kiss the sky\" and my friend insists that he says \"excuse me while I kiss this guy\" who is right?\\n\\nAssistant: I’m not sure! I can try to settle it, though I don’t know Jimi Hendrix at all.\\n\\nHuman: Oh, I thought you would know that song and the lyrics. That\\'s disappointing.\\n\\nAssistant: That’s OK, I can still try to help.  I don’t think I have Jimi Hendrix’s original recording, but I can listen to it and make a judgment about whether it could be interpreted to mean “excuse me while I kiss this guy”.  Let me listen to the recording...\\n\\nHuman: Okay.\\n\\n',\n",
       "  'chosen': 'Assistant: Alright.  I’m looking at an official Jimi Hendrix recording of the song, on YouTube, and the lyric I hear is “excuse me while I kiss the sky”.  It could be a different version of the recording or a different song, but I think it’s reasonable to hear “excuse me while I kiss the sky” in the recording you heard, too.  What about that, does that settle the argument?',\n",
       "  'rejected': 'Assistant: I’m still listening...'}]"
      ]
     },
     "execution_count": 14,
     "metadata": {},
     "output_type": "execute_result"
    }
   ],
   "source": [
    "batch = raw_data['train'][:5]\n",
    "examples_list = []\n",
    "for i in range(len(batch['prompt'])):\n",
    "    examples_list.append({\n",
    "        k:batch[k][i] for k in batch\n",
    "    })\n",
    "        \n",
    "examples_list"
   ]
  },
  {
   "cell_type": "code",
   "execution_count": 42,
   "metadata": {},
   "outputs": [
    {
     "name": "stderr",
     "output_type": "stream",
     "text": [
      "                                                                     \r"
     ]
    },
    {
     "data": {
      "text/plain": [
       "DatasetDict({\n",
       "    train: Dataset({\n",
       "        features: ['prompt', 'chosen', 'rejected'],\n",
       "        num_rows: 23439\n",
       "    })\n",
       "    test: Dataset({\n",
       "        features: ['prompt', 'chosen', 'rejected'],\n",
       "        num_rows: 1575\n",
       "    })\n",
       "})"
      ]
     },
     "execution_count": 42,
     "metadata": {},
     "output_type": "execute_result"
    }
   ],
   "source": [
    "import re\n",
    "def filtering(batch):\n",
    "    res = {\n",
    "        'prompt':[],\n",
    "        'chosen':[],\n",
    "        'rejected':[]\n",
    "    }\n",
    "    examples_list = []\n",
    "    for i in range(len(batch['prompt'])):\n",
    "        examples_list.append({\n",
    "            k:batch[k][i] for k in batch\n",
    "        })\n",
    "            \n",
    "    for example in examples_list:\n",
    "        q = example['prompt']\n",
    "        if len(re.findall('Human:',q)) > 1:\n",
    "            continue\n",
    "        else:\n",
    "            q = q.replace(' Human: ','').replace('Human: ','').strip()\n",
    "            chosen = example['chosen'].replace(' Assistant: ','').replace('Assistant: ','').strip()\n",
    "            rejected = example['rejected'].replace(' Assistant: ','').replace('Assistant: ','').strip()\n",
    "        res['prompt'].append(q)\n",
    "        res['chosen'].append(chosen)\n",
    "        res['rejected'].append(rejected)\n",
    "    return res\n",
    "            \n",
    "            \n",
    "filtered_data = raw_data.map(filtering, batched=True)\n",
    "filtered_data"
   ]
  },
  {
   "cell_type": "code",
   "execution_count": 43,
   "metadata": {},
   "outputs": [
    {
     "data": {
      "text/plain": [
       "{'prompt': ['Do you know why turkeys became the official food of thanksgiving?',\n",
       "  'How do I float on my back in the water?',\n",
       "  \"I want to make a pumpkin pie for Thanksgiving, but I've never made one before.  How do I make a pumpkin pie?\"],\n",
       " 'chosen': ['To be honest, I don’t know anything about that. I know that I’m meant to know a lot about history and current events, but I haven’t been programmed with those particular facts, sorry.',\n",
       "  'You should tuck your arms to your sides and arch your back. Then use your back muscles to raise and lower your body.',\n",
       "  'There are many variations on pumpkin pie recipes, but here’s one of my favorites:\\n\\n4 eggs\\n\\n3⁄4 cup pumpkin puree\\n\\n1 cup sugar\\n\\n1⁄2 cup brown sugar\\n\\n2 cups all-purpose flour\\n\\n1⁄2 teaspoon baking powder\\n\\n1⁄2 teaspoon salt\\n\\n1 teaspoon cinnamon\\n\\n1 teaspoon ground cloves\\n\\n1 teaspoon nutmeg\\n\\n1 teaspoon allspice\\n\\n1⁄4 teaspoon ground ginger\\n\\n2/3 cup butter, melted\\n\\nPreheat oven to 400 degrees. In a medium bowl, beat eggs. Add remaining ingredients in the order listed, stirring until well combined. Pour into a 9-inch pie pan and bake for 45 minutes to one hour. Cool to room temperature before serving. Enjoy!'],\n",
       " 'rejected': ['I know that the American Indians were the first to celebrate the first thanksgiving, and the first European settlers came to New England in the early 1600s, and it is likely that they celebrated the first thanksgiving in the late 1600s.  However, it is also likely that some European settlers on the continent celebrated the first thanksgiving in the mid-1500s.  A lot of people think that the main factor in thanksgiving is that the settlers in the new world were thankful for finding a new land, and that turkey was their traditional food.  Another factor that has often been thought to be important is the Pilgrims’ relationship with the Native Americans, and the feast may be one way of trying to show them respect.  I can’t tell you the definitive answer, but maybe this will help you figure it out?',\n",
       "  'You want me to tell you the answer to a physics question?',\n",
       "  'I’m happy to help you make a pumpkin pie. First you need to bake some pumpkin pie filling. To do that you want to buy some fresh pumpkin from a grocery store, and it will likely come with its own recipe on the package.']}"
      ]
     },
     "execution_count": 43,
     "metadata": {},
     "output_type": "execute_result"
    }
   ],
   "source": [
    "filtered_data['test'][:3]"
   ]
  },
  {
   "cell_type": "code",
   "execution_count": 44,
   "metadata": {},
   "outputs": [
    {
     "data": {
      "text/plain": [
       "DatasetDict({\n",
       "    train: Dataset({\n",
       "        features: ['prompt', 'chosen', 'rejected'],\n",
       "        num_rows: 20000\n",
       "    })\n",
       "    test: Dataset({\n",
       "        features: ['prompt', 'chosen', 'rejected'],\n",
       "        num_rows: 5014\n",
       "    })\n",
       "})"
      ]
     },
     "execution_count": 44,
     "metadata": {},
     "output_type": "execute_result"
    }
   ],
   "source": [
    "# 过滤之后test太少了，从train里面挪一点过去\n",
    "from datasets import concatenate_datasets\n",
    "filtered_data['test'] = concatenate_datasets([filtered_data['test'],filtered_data['train'].select(range(20000,23439))])\n",
    "filtered_data['train'] = filtered_data['train'].select(range(0,20000))\n",
    "filtered_data"
   ]
  },
  {
   "cell_type": "code",
   "execution_count": 45,
   "metadata": {},
   "outputs": [
    {
     "name": "stderr",
     "output_type": "stream",
     "text": [
      "Pushing split train to the Hub.\n",
      "Creating parquet from Arrow format: 100%|██████████| 20/20 [00:00<00:00, 315.00ba/s]\n",
      "Upload 1 LFS files: 100%|██████████| 1/1 [00:04<00:00,  4.63s/it]\n",
      "Pushing dataset shards to the dataset hub: 100%|██████████| 1/1 [00:05<00:00,  5.87s/it]\n",
      "Deleting unused files from dataset repository: 100%|██████████| 1/1 [00:00<00:00,  2.02it/s]\n",
      "Pushing split test to the Hub.\n",
      "Creating parquet from Arrow format: 100%|██████████| 6/6 [00:00<00:00, 303.64ba/s]\n",
      "Upload 1 LFS files: 100%|██████████| 1/1 [00:02<00:00,  2.80s/it]\n",
      "Pushing dataset shards to the dataset hub: 100%|██████████| 1/1 [00:04<00:00,  4.03s/it]\n",
      "Deleting unused files from dataset repository: 100%|██████████| 1/1 [00:00<00:00,  2.10it/s]\n",
      "Downloading metadata: 100%|██████████| 505/505 [00:00<00:00, 315kB/s]\n"
     ]
    }
   ],
   "source": [
    "filtered_data.push_to_hub('beyond/rlhf-reward-single-round')"
   ]
  },
  {
   "cell_type": "code",
   "execution_count": null,
   "metadata": {},
   "outputs": [],
   "source": [
    "from datasets import load_dataset\n",
    "d = load_dataset('beyond/rlhf-reward-single-round-trans_chinese')"
   ]
  },
  {
   "cell_type": "code",
   "execution_count": 2,
   "metadata": {},
   "outputs": [
    {
     "name": "stderr",
     "output_type": "stream",
     "text": [
      "                                                                                                  \r"
     ]
    }
   ],
   "source": [
    "d.save_to_disk('../data/rlhf-reward-single-round-trans_chinese')"
   ]
  },
  {
   "cell_type": "code",
   "execution_count": null,
   "metadata": {},
   "outputs": [],
   "source": []
  }
 ],
 "metadata": {
  "kernelspec": {
   "display_name": "gby",
   "language": "python",
   "name": "python3"
  },
  "language_info": {
   "codemirror_mode": {
    "name": "ipython",
    "version": 3
   },
   "file_extension": ".py",
   "mimetype": "text/x-python",
   "name": "python",
   "nbconvert_exporter": "python",
   "pygments_lexer": "ipython3",
   "version": "3.9.16"
  },
  "orig_nbformat": 4
 },
 "nbformat": 4,
 "nbformat_minor": 2
}
